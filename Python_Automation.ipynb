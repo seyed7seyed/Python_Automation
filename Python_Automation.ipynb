{
 "cells": [
  {
   "cell_type": "markdown",
   "id": "87d5ebbe",
   "metadata": {},
   "source": [
    "#####   \n",
    "<span style=\"font-family:MV Boli; font-weight:Bold; font-size:2.3em; color:#00b3e5;\"> Python Automation Project\n",
    "    \n",
    "  - **pyttsx3** . . . . . . . . . . . . . . Python Text To Speech\n",
    "  - **speech_recognition** . . . Speech To Text (Works on API's)\n",
    "  - **automate_wikipedia** . . . Automate and Work with Wikipedia\n",
    "  - **webbrowser** . . . . . . . . . .  Automate Webbrowsers\n",
    "  - **smtplib**. . . . . . . . . . . . . . Sending Emails\n",
    "  - **os** . . . . . . . . . . . . . . . . . . Work & Interact with Operating System\n",
    "  - **datetime**. . . . . . . . . . . . . Work with Date & Time"
   ]
  },
  {
   "cell_type": "code",
   "execution_count": 1,
   "id": "4050267a",
   "metadata": {},
   "outputs": [],
   "source": [
    "# pip install pyttsx3"
   ]
  },
  {
   "cell_type": "code",
   "execution_count": 2,
   "id": "af196d36",
   "metadata": {},
   "outputs": [],
   "source": [
    "# pip install wikipedia"
   ]
  },
  {
   "cell_type": "code",
   "execution_count": 3,
   "id": "b3da34c5",
   "metadata": {},
   "outputs": [],
   "source": [
    "# pip install PyAudio"
   ]
  },
  {
   "cell_type": "code",
   "execution_count": 4,
   "id": "03d4b5c6",
   "metadata": {},
   "outputs": [],
   "source": [
    "# pip install SpeechRecognition"
   ]
  },
  {
   "cell_type": "code",
   "execution_count": 5,
   "id": "36b19243",
   "metadata": {},
   "outputs": [],
   "source": [
    "import pyttsx3                      # pip install pyttsx3\n",
    "import speech_recognition as sr     # pip install PyAudio    # pip install SpeechRecognition\n",
    "import wikipedia                    # pip install wikipedia\n",
    "import webbrowser\n",
    "import smtplib\n",
    "import os\n",
    "import datetime"
   ]
  },
  {
   "cell_type": "code",
   "execution_count": 6,
   "id": "753654cf",
   "metadata": {},
   "outputs": [],
   "source": [
    "engine = pyttsx3.init('sapi5')"
   ]
  },
  {
   "cell_type": "code",
   "execution_count": 7,
   "id": "e0ffafc3",
   "metadata": {},
   "outputs": [],
   "source": [
    "voices = engine.getProperty('voices')"
   ]
  },
  {
   "cell_type": "code",
   "execution_count": 8,
   "id": "cfb651d1",
   "metadata": {},
   "outputs": [],
   "source": [
    "engine.setProperty('voice',voices[1].id)   # 0:male   1:female"
   ]
  },
  {
   "cell_type": "code",
   "execution_count": 9,
   "id": "c2e53664",
   "metadata": {},
   "outputs": [],
   "source": [
    "def speak(audio):\n",
    "    engine.say(audio)\n",
    "    engine.runAndWait()"
   ]
  },
  {
   "cell_type": "code",
   "execution_count": 10,
   "id": "668d67a8",
   "metadata": {},
   "outputs": [],
   "source": [
    "def wishme():\n",
    "    \n",
    "    hour = int( datetime.datetime.now().hour )\n",
    "    \n",
    "    if    0<=hour and hour<12:\n",
    "        speak('Good Morning My Dear Friend')\n",
    "    elif 12<=hour and hour<18:\n",
    "        speak('Good Afternoon My Dear Friend')\n",
    "    else:\n",
    "        speak('Good Evening My Dear Friend')\n",
    "        \n",
    "    speak('Let me know how I can help you, What are looking for ?')    \n",
    "    "
   ]
  },
  {
   "cell_type": "code",
   "execution_count": 11,
   "id": "0ba12906",
   "metadata": {},
   "outputs": [],
   "source": [
    "def takecommand():\n",
    "    \n",
    "    r = sr.Recognizer()\n",
    "    \n",
    "    with sr.Microphone() as source:\n",
    "        print('Listening to you ...')\n",
    "        r.pause_threshold = 1\n",
    "        audio = r.listen(source)\n",
    "        \n",
    "    try:\n",
    "        print('Recognizing your voice ...')\n",
    "        query = r.recognize_google(audio, language='en-in')\n",
    "        print(f'My Dear Friend, You Said: {query}\\n ')\n",
    "        \n",
    "    except Exception as e:\n",
    "        print('My Dear Friend, Please Say That Again ...')\n",
    "        return 'None'\n",
    "    \n",
    "    return query       "
   ]
  },
  {
   "cell_type": "code",
   "execution_count": 12,
   "id": "828c2007",
   "metadata": {},
   "outputs": [],
   "source": [
    "def sendEmail( to, content ):\n",
    "    server = smtplib.SMTP( 'smtp.gmail.com', 587 )\n",
    "    server.ehlo()\n",
    "    server.starttls()\n",
    "    server.login()\n",
    "    server.login('seyed7seyedgmail@gmail.com','Amirr007++')\n",
    "    server.sendmail('seyed7seyedgmail@gmail.com',to,content)\n",
    "    server.close()"
   ]
  },
  {
   "cell_type": "code",
   "execution_count": 13,
   "id": "ce5d78c2",
   "metadata": {},
   "outputs": [
    {
     "name": "stdout",
     "output_type": "stream",
     "text": [
      "Listening to you ...\n",
      "Recognizing your voice ...\n",
      "My Dear Friend, You Said: open LinkedIn open LinkedIn open LinkedIn\n",
      " \n",
      "Listening to you ...\n",
      "Recognizing your voice ...\n",
      "My Dear Friend, Please Say That Again ...\n",
      "Listening to you ...\n",
      "Recognizing your voice ...\n",
      "My Dear Friend, Please Say That Again ...\n",
      "Listening to you ...\n",
      "Recognizing your voice ...\n",
      "My Dear Friend, You Said: open paint\n",
      " \n",
      "Listening to you ...\n"
     ]
    },
    {
     "name": "stderr",
     "output_type": "stream",
     "text": [
      "\n",
      "KeyboardInterrupt\n",
      "\n"
     ]
    }
   ],
   "source": [
    "if __name__ == '__main__' :\n",
    "    \n",
    "    wishme()\n",
    "    \n",
    "    while True:\n",
    "        query = takecommand().lower()\n",
    "        \n",
    "        if 'open wikipedia' in query:\n",
    "            speak('Searching wikipedia ...')\n",
    "            query = query.replace('wikipedia','')\n",
    "            results = wikipedia.summary(query,sentences=2)\n",
    "            speak('According to wikipedia ')\n",
    "            print(results)\n",
    "            speak(results)\n",
    "        \n",
    "        elif 'open notepad' in query:\n",
    "            npath = 'C:\\\\Program Files\\\\Notepad++\\\\notepad++.exe'\n",
    "            os.startfile(npath)\n",
    "            \n",
    "        elif 'open paint' in query:\n",
    "            npath = 'C:\\\\Windows\\\\System32\\\\mspaint.exe'\n",
    "            os.startfile(npath)\n",
    "            \n",
    "        elif 'open tableau' in query:\n",
    "            npath = 'C:\\\\Program Files\\\\Tableau\\\\Tableau 2019.4\\\\bin\\\\tableau.exe'\n",
    "            os.startfile(npath)\n",
    "            \n",
    "        elif 'open yahoo' in query:\n",
    "            webbrowser.open('yahoo.com')\n",
    "            \n",
    "        elif 'open great learning' in query:\n",
    "            webbrowser.open('olympus.mygreatlearning.com/courses')\n",
    "            \n",
    "        elif 'open google' in query:\n",
    "            webbrowser.open('google.com')\n",
    "            \n",
    "        elif 'open linkedin' in query:\n",
    "            webbrowser.open('linkedin.com/in/seyed7seyed')\n",
    "            \n",
    "        elif 'tell me the time' in query:\n",
    "            strTime = datetime.datetime.now().strftime('%H:%M:%S')\n",
    "            speak( f'My Dear Friend, The Time Is {strTime}' )\n",
    "            \n",
    "        elif 'email to' in query:\n",
    "            try:\n",
    "                speak('What should I send ?')\n",
    "                content = takecommand()\n",
    "                to      = 'u2seyed@gmail.com'\n",
    "                sendEmail(to,content)\n",
    "                speak('Your email is sent.')\n",
    "            except Exception as e:\n",
    "                print(e)\n",
    "                speak('My dear friend, ..., I am unable to send the email.')"
   ]
  },
  {
   "cell_type": "markdown",
   "id": "729665c2",
   "metadata": {},
   "source": [
    "#####   "
   ]
  },
  {
   "cell_type": "markdown",
   "id": "081f8f3b",
   "metadata": {},
   "source": [
    "#####   "
   ]
  }
 ],
 "metadata": {
  "kernelspec": {
   "display_name": "Python 3 (ipykernel)",
   "language": "python",
   "name": "python3"
  },
  "language_info": {
   "codemirror_mode": {
    "name": "ipython",
    "version": 3
   },
   "file_extension": ".py",
   "mimetype": "text/x-python",
   "name": "python",
   "nbconvert_exporter": "python",
   "pygments_lexer": "ipython3",
   "version": "3.10.13"
  }
 },
 "nbformat": 4,
 "nbformat_minor": 5
}
